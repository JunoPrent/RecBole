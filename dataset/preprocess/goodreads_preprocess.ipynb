{
 "cells": [
  {
   "cell_type": "code",
   "execution_count": null,
   "metadata": {},
   "outputs": [],
   "source": [
    "import pandas as pd\n",
    "from general_preprocess import *\n",
    "import numpy as np"
   ]
  },
  {
   "cell_type": "code",
   "execution_count": null,
   "metadata": {},
   "outputs": [],
   "source": [
    "inter_info = pd.read_csv(\"../goodreads/goodreads.txt\", sep=\"\\t\", index_col=None, names=[\"user_id:token\", \"item_id:token\", \"rating:float\"])\n",
    "\n",
    "inter_info.head()"
   ]
  },
  {
   "cell_type": "code",
   "execution_count": null,
   "metadata": {},
   "outputs": [],
   "source": [
    "item_info = pd.DataFrame({\"item_id:token\": list(set(inter_info[\"item_id:token\"]))})\n",
    "item_info.set_index(\"item_id:token\", inplace=True)\n",
    "\n",
    "item_preprocess(item_info, inter_info)\n",
    "\n",
    "item_info.head()"
   ]
  },
  {
   "cell_type": "code",
   "execution_count": null,
   "metadata": {},
   "outputs": [],
   "source": [
    "user_info = pd.DataFrame({\"user_id:token\": list(set(inter_info[\"user_id:token\"]))})\n",
    "user_info.set_index(\"user_id:token\", inplace=True)\n",
    "\n",
    "user_preprocess(user_info, item_info, inter_info)\n",
    "\n",
    "user_info.head()"
   ]
  },
  {
   "cell_type": "code",
   "execution_count": null,
   "metadata": {},
   "outputs": [],
   "source": [
    "# Distribution of 5-star ratings per user group\n",
    "# print([[(inter_info.loc[(inter_info[\"user_id:token\"].isin(user_info[user_info[\"mainstream class (even groups)\"] == user_label].index)) & (inter_info[\"item_id:token\"].isin(item_info[item_info[\"popular item\"] == item_label].index))][\"rating:float\"].values == 5).sum() for item_label in [\"H\", \"M\", \"T\"]] for user_label in range(5)])\n",
    "\n",
    "# Average amount of items rated by niche and mainstream user groups\n",
    "# print(user_info.loc[user_info[\"mainstream class (even groups)\"] == 0][\"items rated\"].mean())\n",
    "# print(user_info.loc[user_info[\"mainstream class (even groups)\"] == 4][\"items rated\"].mean())\n",
    "\n",
    "# Distribution of items based on their popularity group\n",
    "# print([(item_info[\"popular item\"] == item_label).sum() for item_label in [\"H\", \"M\", \"T\"]])\n",
    "\n",
    "# Distribution of interactions based on item group\n",
    "# print([len(inter_info.loc[inter_info[\"item_id:token\"].isin(item_info.loc[item_info[\"popular item\"] == label].index)]) for label in [\"H\", \"M\", \"T\"]])\n",
    "\n",
    "# The amount of interactions per user\n",
    "# ints_per_user = [len(inter_info.loc[inter_info[\"user_id:token\"] == user_id][\"item_id:token\"].values) for user_id in set(inter_info[\"user_id:token\"].values)]\n",
    "# print(ints_per_user)\n",
    "\n",
    "# The amount of interactions per item group per user\n",
    "# ints_per_user_per_item_group = [[(item_info.loc[inter_info.loc[inter_info[\"user_id:token\"] == user_id][\"item_id:token\"].values][\"popular item\"].values == item_label).sum() for item_label in [\"H\", \"M\", \"T\"]] for user_id in set(inter_info[\"user_id:token\"].values)]\n",
    "\n",
    "# Average item rating per item group (and also split per user group)\n",
    "# print([np.nanmean(item_info.loc[item_info[\"popular item\"] == label][\"average rating\"].values) for label in [\"H\", \"M\", \"T\"]])\n",
    "# for u_label, avgs in [(user_label, [inter_info.loc[inter_info[\"item_id:token\"].isin(item_info[item_info[\"popular item\"] == item_label].index)].loc[inter_info[\"user_id:token\"].isin(user_info[user_info[\"mainstream class (even groups)\"] == user_label].index)][\"rating:float\"].values.mean() for item_label in [\"H\", \"M\", \"T\"]]) for user_label in range(5)]:\n",
    "#     print(u_label, avgs)\n",
    "\n",
    "# Distribution of rated item popularity per user group\n",
    "# item_pop_dist = [sum([np.array(ints_per_user_per_item_group[i]) for i in range(len(ints_per_user_per_item_group)) if user_info.iloc[i][\"mainstream class (even groups)\"] == user_group]) for user_group in range(5)]\n",
    "# print([(i, item_pop_dist[i] / sum(item_pop_dist[i]) * 100) for i in range(len(item_pop_dist))])\n",
    "\n",
    "# Average item popularity distribution across all users\n",
    "# print(sum([np.array(dist) / sum(dist) for dist in ints_per_user_per_item_group]))"
   ]
  },
  {
   "cell_type": "code",
   "execution_count": null,
   "metadata": {},
   "outputs": [],
   "source": [
    "inter_info.to_csv(\"../goodreads/goodreads.inter\", index=None, sep=\"\\t\")\n",
    "item_info.to_csv(\"../goodreads/goodreads.item\", sep=\"\\t\")\n",
    "user_info.to_csv(\"../goodreads/goodreads.user\", sep=\"\\t\")"
   ]
  }
 ],
 "metadata": {
  "kernelspec": {
   "display_name": "RecBole-tG4M4pA8",
   "language": "python",
   "name": "python3"
  },
  "language_info": {
   "codemirror_mode": {
    "name": "ipython",
    "version": 3
   },
   "file_extension": ".py",
   "mimetype": "text/x-python",
   "name": "python",
   "nbconvert_exporter": "python",
   "pygments_lexer": "ipython3",
   "version": "3.9.13"
  }
 },
 "nbformat": 4,
 "nbformat_minor": 2
}
