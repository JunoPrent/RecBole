{
 "cells": [
  {
   "cell_type": "code",
   "execution_count": null,
   "metadata": {},
   "outputs": [],
   "source": [
    "import pandas as pd\n",
    "from general_preprocess import *"
   ]
  },
  {
   "cell_type": "code",
   "execution_count": null,
   "metadata": {},
   "outputs": [],
   "source": [
    "inter_info = pd.read_csv(\"../ml-1m/ratings.dat\", sep=\"::\", engine=\"python\", encoding=\"latin-1\", names=[\"user_id:token\", \"item_id:token\", \"rating:float\", \"timestamp:float\"])\n",
    "\n",
    "inter_info.head()"
   ]
  },
  {
   "cell_type": "code",
   "execution_count": null,
   "metadata": {},
   "outputs": [],
   "source": [
    "item_info = pd.read_csv(\"../ml-1m/movies.dat\", sep=\"::\", engine=\"python\", encoding=\"latin-1\", index_col=0, names=[\"item_id:token\", \"movie_title:token_seq\", \"class:token_seq\"])\n",
    "item_info[[\"movie_title:token_seq\", \"release_year:token\"]] = item_info[\"movie_title:token_seq\"].str.rsplit(\" \", n=1, expand=True)\n",
    "item_info[\"release_year:token\"] = item_info[\"release_year:token\"].str[1:-1]\n",
    "\n",
    "item_preprocess(item_info, inter_info)\n",
    "\n",
    "item_info.head()"
   ]
  },
  {
   "cell_type": "code",
   "execution_count": null,
   "metadata": {},
   "outputs": [],
   "source": [
    "user_info = pd.read_csv(\"../ml-1m/users.dat\", sep=\"::\", engine=\"python\", index_col=0, names=[\"user_id:token\", \"gender:token\", \"age:token\", \"occupation:token\", \"zip_code:token\"])\n",
    "\n",
    "user_preprocess(user_info, item_info, inter_info)\n",
    "\n",
    "user_info.head()"
   ]
  },
  {
   "cell_type": "code",
   "execution_count": null,
   "metadata": {},
   "outputs": [],
   "source": [
    "user_info.to_csv(\"../ml-1m/ml-1m.user\", sep=\"\\t\")\n",
    "item_info.to_csv(\"../ml-1m/ml-1m.item\", sep=\"\\t\")\n",
    "inter_info.to_csv(\"../ml-1m/ml-1m.inter\", index=None, sep=\"\\t\")"
   ]
  }
 ],
 "metadata": {
  "kernelspec": {
   "display_name": "RecBole-tG4M4pA8",
   "language": "python",
   "name": "python3"
  },
  "language_info": {
   "codemirror_mode": {
    "name": "ipython",
    "version": 3
   },
   "file_extension": ".py",
   "mimetype": "text/x-python",
   "name": "python",
   "nbconvert_exporter": "python",
   "pygments_lexer": "ipython3",
   "version": "3.9.13"
  }
 },
 "nbformat": 4,
 "nbformat_minor": 2
}
