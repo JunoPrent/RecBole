{
 "cells": [
  {
   "cell_type": "code",
   "execution_count": null,
   "metadata": {},
   "outputs": [],
   "source": [
    "import pandas as pd\n",
    "from general_preprocess import *"
   ]
  },
  {
   "cell_type": "code",
   "execution_count": null,
   "metadata": {},
   "outputs": [],
   "source": [
    "inter_info = pd.read_csv(\"../yelp/yelp.txt\", sep=\"\\t\", index_col=None, names=[\"user_id:token\", \"item_id:token\", \"rating:float\"])\n",
    "\n",
    "inter_info.head()"
   ]
  },
  {
   "cell_type": "code",
   "execution_count": null,
   "metadata": {},
   "outputs": [],
   "source": [
    "item_info = pd.DataFrame({\"item_id:token\": list(set(inter_info[\"item_id:token\"]))})\n",
    "item_info.set_index(\"item_id:token\", inplace=True)\n",
    "\n",
    "item_preprocess(item_info, inter_info)\n",
    "\n",
    "item_info.head()"
   ]
  },
  {
   "cell_type": "code",
   "execution_count": null,
   "metadata": {},
   "outputs": [],
   "source": [
    "user_info = pd.DataFrame({\"user_id:token\": list(set(inter_info[\"user_id:token\"]))})\n",
    "user_info.set_index(\"user_id:token\", inplace=True)\n",
    "\n",
    "user_preprocess(user_info, item_info, inter_info)\n",
    "\n",
    "user_info.head()"
   ]
  },
  {
   "cell_type": "code",
   "execution_count": null,
   "metadata": {},
   "outputs": [],
   "source": [
    "inter_info.to_csv(\"../yelp/yelp.inter\", index=None, sep=\"\\t\")\n",
    "item_info.to_csv(\"../yelp/yelp.item\", sep=\"\\t\")\n",
    "user_info.to_csv(\"../yelp/yelp.user\", sep=\"\\t\")"
   ]
  }
 ],
 "metadata": {
  "kernelspec": {
   "display_name": "RecBole-tG4M4pA8",
   "language": "python",
   "name": "python3"
  },
  "language_info": {
   "codemirror_mode": {
    "name": "ipython",
    "version": 3
   },
   "file_extension": ".py",
   "mimetype": "text/x-python",
   "name": "python",
   "nbconvert_exporter": "python",
   "pygments_lexer": "ipython3",
   "version": "3.9.13"
  }
 },
 "nbformat": 4,
 "nbformat_minor": 2
}
