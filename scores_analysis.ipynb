{
 "cells": [
  {
   "cell_type": "code",
   "execution_count": 1,
   "metadata": {},
   "outputs": [],
   "source": [
    "import json\n",
    "import pandas as pd\n",
    "import numpy as np"
   ]
  },
  {
   "cell_type": "code",
   "execution_count": 2,
   "metadata": {},
   "outputs": [],
   "source": [
    "dataset = \"google_reviews\"\n",
    "seeds = [4, 170, 340, 870, 5999]"
   ]
  },
  {
   "cell_type": "code",
   "execution_count": 3,
   "metadata": {},
   "outputs": [],
   "source": [
    "item_info = pd.read_csv(f\"dataset/{dataset}/{dataset}.item\", sep=\"\\t\", engine=\"python\", index_col=0, header=0)\n",
    "with open(f\"dataset/remappings/{dataset}.json\") as f:\n",
    "    remappings = json.load(f)\n",
    "\n",
    "item_labels = item_info.loc[item_info[\"total ratings (%)\"] > 0][\"popular item\"]\n",
    "item_labels = pd.Series(item_labels.values, index=[remappings[\"item_id\"][str(i)] for i in item_labels.index])"
   ]
  },
  {
   "cell_type": "code",
   "execution_count": 4,
   "metadata": {},
   "outputs": [],
   "source": [
    "item_avgs = {item_idx: [] for item_idx in item_labels.index}\n",
    "\n",
    "for seed in seeds:\n",
    "    with open(f\"scores_{dataset}_{seed}.json\") as f:\n",
    "        d = json.load(f)\n",
    "    for item_idx in sorted(item_labels.index):\n",
    "        item_scores = np.array([d[user_idx][item_idx] for user_idx in d.keys() if d[user_idx][item_idx] != -np.inf])\n",
    "        if len(item_scores) > 0:\n",
    "            item_avgs[item_idx].append(item_scores.mean())\n",
    "\n",
    "item_stds = {item_idx: np.array(item_avgs[item_idx]).std() for item_idx in item_labels.index}"
   ]
  },
  {
   "cell_type": "code",
   "execution_count": 5,
   "metadata": {},
   "outputs": [],
   "source": [
    "with open(f\"uncertainty_{dataset}_std.json\", \"w\") as f:\n",
    "    json.dump(item_stds, f)"
   ]
  }
 ],
 "metadata": {
  "kernelspec": {
   "display_name": "RecBole-tG4M4pA8",
   "language": "python",
   "name": "python3"
  },
  "language_info": {
   "codemirror_mode": {
    "name": "ipython",
    "version": 3
   },
   "file_extension": ".py",
   "mimetype": "text/x-python",
   "name": "python",
   "nbconvert_exporter": "python",
   "pygments_lexer": "ipython3",
   "version": "3.9.13"
  }
 },
 "nbformat": 4,
 "nbformat_minor": 2
}
